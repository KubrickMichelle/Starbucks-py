{
 "cells": [
  {
   "cell_type": "markdown",
   "metadata": {},
   "source": [
    "# Creating a dataframe for ticker prices\n",
    "## Using SBUX code for Starbucks Corporation"
   ]
  },
  {
   "cell_type": "code",
   "execution_count": 40,
   "metadata": {
    "collapsed": true
   },
   "outputs": [],
   "source": [
    "#import libraries to use\n",
    "\n",
    "import pandas_datareader.data as web\n",
    "import datetime   "
   ]
  },
  {
   "cell_type": "code",
   "execution_count": 41,
   "metadata": {},
   "outputs": [],
   "source": [
    "#Setting the time period: start and end date of when we became extracting tweets\n",
    "\n",
    "start = datetime.datetime(2017, 7, 1)\n",
    "end = datetime.datetime(2017, 7, 24)\n"
   ]
  },
  {
   "cell_type": "code",
   "execution_count": 42,
   "metadata": {
    "collapsed": true
   },
   "outputs": [],
   "source": [
    "#Read through the google finance page for ticker information on SBUX between the time frame defined above\n",
    "df = web.DataReader(\"SBUX\", 'google', start, end)"
   ]
  },
  {
   "cell_type": "code",
   "execution_count": 43,
   "metadata": {},
   "outputs": [],
   "source": [
    "# Using a 'for loop' create a dataframe containing all ticker information\n",
    "\n",
    "dates =[]\n",
    "for x in range(len(df)):\n",
    "    newdate = str(df.index[x])\n",
    "    newdate = newdate[0:10]\n",
    "    dates.append(newdate)\n",
    "\n",
    "df['dates'] = dates\n"
   ]
  },
  {
   "cell_type": "code",
   "execution_count": 44,
   "metadata": {},
   "outputs": [
    {
     "data": {
      "text/html": [
       "<div>\n",
       "<style>\n",
       "    .dataframe thead tr:only-child th {\n",
       "        text-align: right;\n",
       "    }\n",
       "\n",
       "    .dataframe thead th {\n",
       "        text-align: left;\n",
       "    }\n",
       "\n",
       "    .dataframe tbody tr th {\n",
       "        vertical-align: top;\n",
       "    }\n",
       "</style>\n",
       "<table border=\"1\" class=\"dataframe\">\n",
       "  <thead>\n",
       "    <tr style=\"text-align: right;\">\n",
       "      <th></th>\n",
       "      <th>Open</th>\n",
       "      <th>High</th>\n",
       "      <th>Low</th>\n",
       "      <th>Close</th>\n",
       "      <th>Volume</th>\n",
       "      <th>dates</th>\n",
       "    </tr>\n",
       "    <tr>\n",
       "      <th>Date</th>\n",
       "      <th></th>\n",
       "      <th></th>\n",
       "      <th></th>\n",
       "      <th></th>\n",
       "      <th></th>\n",
       "      <th></th>\n",
       "    </tr>\n",
       "  </thead>\n",
       "  <tbody>\n",
       "    <tr>\n",
       "      <th>2017-07-03</th>\n",
       "      <td>58.90</td>\n",
       "      <td>58.99</td>\n",
       "      <td>58.25</td>\n",
       "      <td>58.25</td>\n",
       "      <td>4575268</td>\n",
       "      <td>2017-07-03</td>\n",
       "    </tr>\n",
       "    <tr>\n",
       "      <th>2017-07-05</th>\n",
       "      <td>58.43</td>\n",
       "      <td>58.50</td>\n",
       "      <td>57.80</td>\n",
       "      <td>57.94</td>\n",
       "      <td>7773566</td>\n",
       "      <td>2017-07-05</td>\n",
       "    </tr>\n",
       "    <tr>\n",
       "      <th>2017-07-06</th>\n",
       "      <td>57.80</td>\n",
       "      <td>57.92</td>\n",
       "      <td>57.40</td>\n",
       "      <td>57.60</td>\n",
       "      <td>8886648</td>\n",
       "      <td>2017-07-06</td>\n",
       "    </tr>\n",
       "    <tr>\n",
       "      <th>2017-07-07</th>\n",
       "      <td>57.79</td>\n",
       "      <td>58.36</td>\n",
       "      <td>57.54</td>\n",
       "      <td>58.04</td>\n",
       "      <td>7278250</td>\n",
       "      <td>2017-07-07</td>\n",
       "    </tr>\n",
       "    <tr>\n",
       "      <th>2017-07-10</th>\n",
       "      <td>58.18</td>\n",
       "      <td>58.35</td>\n",
       "      <td>57.75</td>\n",
       "      <td>57.81</td>\n",
       "      <td>4832094</td>\n",
       "      <td>2017-07-10</td>\n",
       "    </tr>\n",
       "  </tbody>\n",
       "</table>\n",
       "</div>"
      ],
      "text/plain": [
       "             Open   High    Low  Close   Volume       dates\n",
       "Date                                                       \n",
       "2017-07-03  58.90  58.99  58.25  58.25  4575268  2017-07-03\n",
       "2017-07-05  58.43  58.50  57.80  57.94  7773566  2017-07-05\n",
       "2017-07-06  57.80  57.92  57.40  57.60  8886648  2017-07-06\n",
       "2017-07-07  57.79  58.36  57.54  58.04  7278250  2017-07-07\n",
       "2017-07-10  58.18  58.35  57.75  57.81  4832094  2017-07-10"
      ]
     },
     "execution_count": 44,
     "metadata": {},
     "output_type": "execute_result"
    }
   ],
   "source": [
    "#Preview the first 5 lines of the dataframe\n",
    "df.head()"
   ]
  },
  {
   "cell_type": "code",
   "execution_count": null,
   "metadata": {
    "collapsed": true
   },
   "outputs": [],
   "source": []
  }
 ],
 "metadata": {
  "kernelspec": {
   "display_name": "Python 3",
   "language": "python",
   "name": "python3"
  },
  "language_info": {
   "codemirror_mode": {
    "name": "ipython",
    "version": 3
   },
   "file_extension": ".py",
   "mimetype": "text/x-python",
   "name": "python",
   "nbconvert_exporter": "python",
   "pygments_lexer": "ipython3",
   "version": "3.6.1"
  }
 },
 "nbformat": 4,
 "nbformat_minor": 2
}
