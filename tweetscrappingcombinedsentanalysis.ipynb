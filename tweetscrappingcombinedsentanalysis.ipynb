{
 "cells": [
  {
   "cell_type": "markdown",
   "metadata": {
    "collapsed": true
   },
   "source": [
    "import tweepy\n",
    "import json"
   ]
  },
  {
   "cell_type": "markdown",
   "metadata": {},
   "source": []
  },
  {
   "cell_type": "code",
   "execution_count": 202,
   "metadata": {
    "collapsed": true
   },
   "outputs": [],
   "source": [
    "import pyodbc\n",
    "from __future__ import absolute_import, print_function\n",
    "from tweepy.streaming import StreamListener\n",
    "from tweepy import OAuthHandler\n",
    "from tweepy import Stream\n",
    "from sqlalchemy.exc import ProgrammingError\n",
    "import tweepy\n",
    "import emoji\n",
    "from vaderSentiment.vaderSentiment import SentimentIntensityAnalyzer\n",
    "import math, re, string, requests, json\n",
    "\n"
   ]
  },
  {
   "cell_type": "code",
   "execution_count": 222,
   "metadata": {
    "collapsed": true
   },
   "outputs": [],
   "source": [
    "conn = pyodbc.connect(r'DSN=starbucks')\n",
    "curr= conn.cursor()\n",
    "analyzer = SentimentIntensityAnalyzer()\n",
    "\n",
    "\n",
    "language_codes = [\"fr\", \"de\", \"es\", \"it\", \"ru\", \"ja\", \"ar\", \"zh\"]\n",
    "\n",
    "\n",
    "apikey = 'J6i0D62a4Mw5Ah7H2Yll56Juv'\n",
    "apisecret ='rQUI6gGOLVjn2KrDNDYBjvkmQbLKjnQsDuqmQ09pYln74U19sU'\n",
    "accesstoken = '887695309610135552-9iEwdo4RYjRDHkeImgvQLuvKFiPhAcE'\n",
    "tokensecret = 'zXY5Wq4cs3D2hjD5DIpTit2k7k1VbmSIC8KWzrpbtCAIo'\n"
   ]
  },
  {
   "cell_type": "code",
   "execution_count": 228,
   "metadata": {
    "collapsed": true
   },
   "outputs": [],
   "source": [
    "class StdOutListener(StreamListener):\n",
    "    def on_status(self, status):\n",
    "    \n",
    "       try:\n",
    "            if status.user.lang in language_codes:\n",
    "                api_url = \"http://mymemory.translated.net/api/get?q={}&langpair={}|{}\".format(status.text, status.user.lang, \"en\")\n",
    "                hdrs ={'User-Agent': 'Mozilla/5.0 (X11; Linux x86_64) AppleWebKit/537.11 (KHTML, like Gecko) Chrome/23.0.1271.64 Safari/537.11',\n",
    "                'Accept': 'text/html,application/xhtml+xml,application/xml;q=0.9,*/*;q=0.8',\n",
    "                'Accept-Charset': 'ISO-8859-1,utf-8;q=0.7,*;q=0.3',\n",
    "                'Accept-Encoding': 'none',\n",
    "                'Accept-Language': 'en-US,en;q=0.8',\n",
    "                'Connection': 'keep-alive'}\n",
    "                response = requests.get(api_url, headers=hdrs)\n",
    "                response_json = json.loads(response.text)\n",
    "                translation = response_json[\"responseData\"][\"translatedText\"]\n",
    "                translator_name = \"MemoryNet Translation Service\"\n",
    "                vs = analyzer.polarity_scores(translation)\n",
    "                sent = vs['compound']\n",
    "                print('noneng')\n",
    "            else:\n",
    "                vs = analyzer.polarity_scores(status.text)\n",
    "                sent = vs['compound']\n",
    "                translation = status.text\n",
    "                print('eng')\n",
    "        except:\n",
    "            return\n",
    "        status.text = str.replace(status.text, '\\'', '\\'\\'')\n",
    "        q= 'insert into starbucks(\\\n",
    "        id_str, created,Uk_time, text, fav,name, followers, sentiment, language)\\\n",
    "        values (\\'%s\\',\\'%s\\', getdate(),\\'%s\\',\\'%s\\',\\'%s\\',\\'%s\\', \\'%s\\',\\'%s\\,\\'%s\\')'\\\n",
    "        %(status.id_str, status.created_at, status.text, status.favorite_count, status.user.screen_name,\\\n",
    "          status.user.followers_count, sent, status.user.lang, translation)\n",
    "        \n",
    "     \n",
    "        try:\n",
    "            curr.execute(q)\n",
    "            conn.commit()\n",
    "            \n",
    "        except:\n",
    "            print(q)\n",
    "        #('insert into starbucks(\\\n",
    "        #id_str, created,text, fav,name, description, loc, user_created, follower)\\\n",
    "        #values (%s,%s,%s,%s,%s,%s,%s,%s,%s)'\\\n",
    "        #%(status.id_str, status.created_at, status.text, status.favorite_count, status.user.screen_name, status.user.description, status.user.location, status.user.created_at, status.user.followers_count))\n",
    "        \n",
    "        \n",
    "         \n",
    "               \n",
    "    def on_error(self, status_code):\n",
    "        if status_code == 420:\n",
    "            return False\n",
    "\n"
   ]
  },
  {
   "cell_type": "code",
   "execution_count": 229,
   "metadata": {},
   "outputs": [
    {
     "name": "stdout",
     "output_type": "stream",
     "text": [
      "eng\n",
      "insert into starbucks(        id_str, created,Uk_time, text, fav,name, followers, sentiment, language)        values ('889841732375937024','2017-07-25 13:36:16', getdate(),'Being able to just run to Dunkin or Starbucks whenever I need/want to during the day makes me love my job even more💝','0','xallllyssa','224', '0.6369','en\\,'Being able to just run to Dunkin or Starbucks whenever I need/want to during the day makes me love my job even more💝')\n",
      "eng\n",
      "insert into starbucks(        id_str, created,Uk_time, text, fav,name, followers, sentiment, language)        values ('889841752521285632','2017-07-25 13:36:20', getdate(),'@mrBobbyBones we need a Starbucks Steven shirt. \"Starbucks Steven is my barista\"','0','ncsu_blowery','412', '0.0','en\\,'@mrBobbyBones we need a Starbucks Steven shirt. \"Starbucks Steven is my barista\"')\n",
      "noneng\n",
      "insert into starbucks(        id_str, created,Uk_time, text, fav,name, followers, sentiment, language)        values ('889841768883204096','2017-07-25 13:36:24', getdate(),'RT @lawlufy: qd vous trollez faite le bien on voit très bien que ton vrai prénom est écrit à gauche, t’as écrit ça après pour pe… ','0','FannyMgr','251', '0.6478','fr\\,'RT @lawlufy: qd you trollez made good you see very well that your real first name is written on the left, you wrote it after to pe ...')\n",
      "eng\n",
      "insert into starbucks(        id_str, created,Uk_time, text, fav,name, followers, sentiment, language)        values ('889841774700634112','2017-07-25 13:36:26', getdate(),'There are times I wish I was young again and then I pass a Starbucks and realize how thankful I am to drink coffee that is real .','0','Barely_White','364', '0.7506','en\\,'There are times I wish I was young again and then I pass a Starbucks and realize how thankful I am to drink coffee that is real .')\n",
      "noneng\n",
      "insert into starbucks(        id_str, created,Uk_time, text, fav,name, followers, sentiment, language)        values ('889841792627167232','2017-07-25 13:36:30', getdate(),'RT @lawlufy: qd vous trollez faite le bien on voit très bien que ton vrai prénom est écrit à gauche, t’as écrit ça après pour pe… ','0','150343TCX','66', '0.6478','fr\\,'RT @lawlufy: qd you trollez made good you see very well that your real first name is written on the left, you wrote it after to pe ...')\n",
      "noneng\n",
      "insert into starbucks(        id_str, created,Uk_time, text, fav,name, followers, sentiment, language)        values ('889841795550642177','2017-07-25 13:36:31', getdate(),'\"Jore\" \"se\" le monde va mal https://t.co/8dfc5fMt13','0','naaamaaste','368', '0.0','fr\\,'The world will change.')\n",
      "eng\n",
      "insert into starbucks(        id_str, created,Uk_time, text, fav,name, followers, sentiment, language)        values ('889841797375164416','2017-07-25 13:36:31', getdate(),'My @Starbucks birthday reward expired while I was out of the country and I could never use it 😭😭😭','0','OfficialTVKel','174', '0.5719','en\\,'My @Starbucks birthday reward expired while I was out of the country and I could never use it 😭😭😭')\n",
      "eng\n",
      "insert into starbucks(        id_str, created,Uk_time, text, fav,name, followers, sentiment, language)        values ('889841802471030784','2017-07-25 13:36:32', getdate(),'RT @UusRsd: Mari dukung Kapolri Grebek STARBUCKS karena jual Kopi MAHAL padahal beli biji kopi dari petani dgn harga MURAH.','0','lisa25563292','780', '0.0','id\\,'RT @UusRsd: Mari dukung Kapolri Grebek STARBUCKS karena jual Kopi MAHAL padahal beli biji kopi dari petani dgn harga MURAH.')\n",
      "noneng\n",
      "insert into starbucks(        id_str, created,Uk_time, text, fav,name, followers, sentiment, language)        values ('889841805713342465','2017-07-25 13:36:33', getdate(),'RT @lawlufy: qd vous trollez faite le bien on voit très bien que ton vrai prénom est écrit à gauche, t’as écrit ça après pour pe… ','0','manonremy39','310', '0.6478','fr\\,'RT @lawlufy: qd you trollez made good you see very well that your real first name is written on the left, you wrote it after to pe ...')\n",
      "eng\n",
      "insert into starbucks(        id_str, created,Uk_time, text, fav,name, followers, sentiment, language)        values ('889841808049438720','2017-07-25 13:36:34', getdate(),'starbucks drive-thru takes ... a long time this time of day and I always forget that','0','actiecat','68', '-0.2263','en\\,'starbucks drive-thru takes ... a long time this time of day and I always forget that')\n",
      "eng\n",
      "insert into starbucks(        id_str, created,Uk_time, text, fav,name, followers, sentiment, language)        values ('889841809010163713','2017-07-25 13:36:34', getdate(),'My loyal coffee cart guy, who has my order ready before I ask, just caught me walking into my office building w/a @Starbucks cup. I am Fredo','0','PatTully','1170', '0.6808','en\\,'My loyal coffee cart guy, who has my order ready before I ask, just caught me walking into my office building w/a @Starbucks cup. I am Fredo')\n",
      "eng\n",
      "insert into starbucks(        id_str, created,Uk_time, text, fav,name, followers, sentiment, language)        values ('889841813128916997','2017-07-25 13:36:35', getdate(),'RT @annathropology: u ever get that free drink at Starbucks and just wild out a lil','0','ThaysIsTheName','1888', '0.5106','en\\,'RT @annathropology: u ever get that free drink at Starbucks and just wild out a lil')\n",
      "eng\n",
      "insert into starbucks(        id_str, created,Uk_time, text, fav,name, followers, sentiment, language)        values ('889841817667198976','2017-07-25 13:36:36', getdate(),'@MissMandi00 @Starbucks that''s ok\n",
      "some are still hungover from #NationalTequilaDay 😂','0','TEXASFLYTYER','4074', '0.296','en\\,'@MissMandi00 @Starbucks that's ok\n",
      "some are still hungover from #NationalTequilaDay 😂')\n",
      "eng\n",
      "insert into starbucks(        id_str, created,Uk_time, text, fav,name, followers, sentiment, language)        values ('889841823543414784','2017-07-25 13:36:37', getdate(),'I''m at Starbucks nuzha https://t.co/atux93OK6w','0','RMunayes','242', '0.0','en\\,'I'm at Starbucks nuzha https://t.co/atux93OK6w')\n",
      "eng\n",
      "insert into starbucks(        id_str, created,Uk_time, text, fav,name, followers, sentiment, language)        values ('889841831495819264','2017-07-25 13:36:39', getdate(),'When you just discovered the iced white mocha from Starbucks and start going there more often... maybe just everyday. 💸💸💸','0','amoolah_','61', '0.0','en\\,'When you just discovered the iced white mocha from Starbucks and start going there more often... maybe just everyday. 💸💸💸')\n",
      "eng\n",
      "insert into starbucks(        id_str, created,Uk_time, text, fav,name, followers, sentiment, language)        values ('889841831713939456','2017-07-25 13:36:39', getdate(),'RT @Lifestyle_AList: You are NOT gonna rob this guy''s neighborhood Starbucks https://t.co/kX76qQYoac','0','melvitto','992', '-0.5574','en\\,'RT @Lifestyle_AList: You are NOT gonna rob this guy's neighborhood Starbucks https://t.co/kX76qQYoac')\n"
     ]
    },
    {
     "ename": "AttributeError",
     "evalue": "'NoneType' object has no attribute 'encode'",
     "output_type": "error",
     "traceback": [
      "\u001b[1;31m---------------------------------------------------------------------------\u001b[0m",
      "\u001b[1;31mAttributeError\u001b[0m                            Traceback (most recent call last)",
      "\u001b[1;32m<ipython-input-229-119a8b9ac690>\u001b[0m in \u001b[0;36m<module>\u001b[1;34m()\u001b[0m\n\u001b[0;32m      4\u001b[0m \u001b[0mapi\u001b[0m \u001b[1;33m=\u001b[0m \u001b[0mtweepy\u001b[0m\u001b[1;33m.\u001b[0m\u001b[0mAPI\u001b[0m\u001b[1;33m(\u001b[0m\u001b[0mauth\u001b[0m\u001b[1;33m)\u001b[0m\u001b[1;33m\u001b[0m\u001b[0m\n\u001b[0;32m      5\u001b[0m \u001b[0mstream\u001b[0m \u001b[1;33m=\u001b[0m \u001b[0mStream\u001b[0m\u001b[1;33m(\u001b[0m\u001b[0mauth\u001b[0m\u001b[1;33m,\u001b[0m \u001b[0ml\u001b[0m\u001b[1;33m)\u001b[0m\u001b[1;33m\u001b[0m\u001b[0m\n\u001b[1;32m----> 6\u001b[1;33m \u001b[0mstream\u001b[0m\u001b[1;33m.\u001b[0m\u001b[0mfilter\u001b[0m\u001b[1;33m(\u001b[0m\u001b[0mtrack\u001b[0m\u001b[1;33m=\u001b[0m\u001b[1;33m[\u001b[0m\u001b[1;34m'starbucks'\u001b[0m\u001b[1;33m]\u001b[0m\u001b[1;33m)\u001b[0m\u001b[1;33m\u001b[0m\u001b[0m\n\u001b[0m",
      "\u001b[1;32mC:\\Users\\Student\\Anaconda3\\lib\\site-packages\\tweepy\\streaming.py\u001b[0m in \u001b[0;36mfilter\u001b[1;34m(self, follow, track, async, locations, stall_warnings, languages, encoding, filter_level)\u001b[0m\n\u001b[0;32m    443\u001b[0m         \u001b[0mself\u001b[0m\u001b[1;33m.\u001b[0m\u001b[0msession\u001b[0m\u001b[1;33m.\u001b[0m\u001b[0mparams\u001b[0m \u001b[1;33m=\u001b[0m \u001b[1;33m{\u001b[0m\u001b[1;34m'delimited'\u001b[0m\u001b[1;33m:\u001b[0m \u001b[1;34m'length'\u001b[0m\u001b[1;33m}\u001b[0m\u001b[1;33m\u001b[0m\u001b[0m\n\u001b[0;32m    444\u001b[0m         \u001b[0mself\u001b[0m\u001b[1;33m.\u001b[0m\u001b[0mhost\u001b[0m \u001b[1;33m=\u001b[0m \u001b[1;34m'stream.twitter.com'\u001b[0m\u001b[1;33m\u001b[0m\u001b[0m\n\u001b[1;32m--> 445\u001b[1;33m         \u001b[0mself\u001b[0m\u001b[1;33m.\u001b[0m\u001b[0m_start\u001b[0m\u001b[1;33m(\u001b[0m\u001b[0masync\u001b[0m\u001b[1;33m)\u001b[0m\u001b[1;33m\u001b[0m\u001b[0m\n\u001b[0m\u001b[0;32m    446\u001b[0m \u001b[1;33m\u001b[0m\u001b[0m\n\u001b[0;32m    447\u001b[0m     def sitestream(self, follow, stall_warnings=False,\n",
      "\u001b[1;32mC:\\Users\\Student\\Anaconda3\\lib\\site-packages\\tweepy\\streaming.py\u001b[0m in \u001b[0;36m_start\u001b[1;34m(self, async)\u001b[0m\n\u001b[0;32m    359\u001b[0m             \u001b[0mself\u001b[0m\u001b[1;33m.\u001b[0m\u001b[0m_thread\u001b[0m\u001b[1;33m.\u001b[0m\u001b[0mstart\u001b[0m\u001b[1;33m(\u001b[0m\u001b[1;33m)\u001b[0m\u001b[1;33m\u001b[0m\u001b[0m\n\u001b[0;32m    360\u001b[0m         \u001b[1;32melse\u001b[0m\u001b[1;33m:\u001b[0m\u001b[1;33m\u001b[0m\u001b[0m\n\u001b[1;32m--> 361\u001b[1;33m             \u001b[0mself\u001b[0m\u001b[1;33m.\u001b[0m\u001b[0m_run\u001b[0m\u001b[1;33m(\u001b[0m\u001b[1;33m)\u001b[0m\u001b[1;33m\u001b[0m\u001b[0m\n\u001b[0m\u001b[0;32m    362\u001b[0m \u001b[1;33m\u001b[0m\u001b[0m\n\u001b[0;32m    363\u001b[0m     \u001b[1;32mdef\u001b[0m \u001b[0mon_closed\u001b[0m\u001b[1;33m(\u001b[0m\u001b[0mself\u001b[0m\u001b[1;33m,\u001b[0m \u001b[0mresp\u001b[0m\u001b[1;33m)\u001b[0m\u001b[1;33m:\u001b[0m\u001b[1;33m\u001b[0m\u001b[0m\n",
      "\u001b[1;32mC:\\Users\\Student\\Anaconda3\\lib\\site-packages\\tweepy\\streaming.py\u001b[0m in \u001b[0;36m_run\u001b[1;34m(self)\u001b[0m\n\u001b[0;32m    292\u001b[0m             \u001b[1;31m# call a handler first so that the exception can be logged.\u001b[0m\u001b[1;33m\u001b[0m\u001b[1;33m\u001b[0m\u001b[0m\n\u001b[0;32m    293\u001b[0m             \u001b[0mself\u001b[0m\u001b[1;33m.\u001b[0m\u001b[0mlistener\u001b[0m\u001b[1;33m.\u001b[0m\u001b[0mon_exception\u001b[0m\u001b[1;33m(\u001b[0m\u001b[0mexception\u001b[0m\u001b[1;33m)\u001b[0m\u001b[1;33m\u001b[0m\u001b[0m\n\u001b[1;32m--> 294\u001b[1;33m             \u001b[1;32mraise\u001b[0m \u001b[0mexception\u001b[0m\u001b[1;33m\u001b[0m\u001b[0m\n\u001b[0m\u001b[0;32m    295\u001b[0m \u001b[1;33m\u001b[0m\u001b[0m\n\u001b[0;32m    296\u001b[0m     \u001b[1;32mdef\u001b[0m \u001b[0m_data\u001b[0m\u001b[1;33m(\u001b[0m\u001b[0mself\u001b[0m\u001b[1;33m,\u001b[0m \u001b[0mdata\u001b[0m\u001b[1;33m)\u001b[0m\u001b[1;33m:\u001b[0m\u001b[1;33m\u001b[0m\u001b[0m\n",
      "\u001b[1;32mC:\\Users\\Student\\Anaconda3\\lib\\site-packages\\tweepy\\streaming.py\u001b[0m in \u001b[0;36m_run\u001b[1;34m(self)\u001b[0m\n\u001b[0;32m    261\u001b[0m                     \u001b[0mself\u001b[0m\u001b[1;33m.\u001b[0m\u001b[0msnooze_time\u001b[0m \u001b[1;33m=\u001b[0m \u001b[0mself\u001b[0m\u001b[1;33m.\u001b[0m\u001b[0msnooze_time_step\u001b[0m\u001b[1;33m\u001b[0m\u001b[0m\n\u001b[0;32m    262\u001b[0m                     \u001b[0mself\u001b[0m\u001b[1;33m.\u001b[0m\u001b[0mlistener\u001b[0m\u001b[1;33m.\u001b[0m\u001b[0mon_connect\u001b[0m\u001b[1;33m(\u001b[0m\u001b[1;33m)\u001b[0m\u001b[1;33m\u001b[0m\u001b[0m\n\u001b[1;32m--> 263\u001b[1;33m                     \u001b[0mself\u001b[0m\u001b[1;33m.\u001b[0m\u001b[0m_read_loop\u001b[0m\u001b[1;33m(\u001b[0m\u001b[0mresp\u001b[0m\u001b[1;33m)\u001b[0m\u001b[1;33m\u001b[0m\u001b[0m\n\u001b[0m\u001b[0;32m    264\u001b[0m             \u001b[1;32mexcept\u001b[0m \u001b[1;33m(\u001b[0m\u001b[0mTimeout\u001b[0m\u001b[1;33m,\u001b[0m \u001b[0mssl\u001b[0m\u001b[1;33m.\u001b[0m\u001b[0mSSLError\u001b[0m\u001b[1;33m)\u001b[0m \u001b[1;32mas\u001b[0m \u001b[0mexc\u001b[0m\u001b[1;33m:\u001b[0m\u001b[1;33m\u001b[0m\u001b[0m\n\u001b[0;32m    265\u001b[0m                 \u001b[1;31m# This is still necessary, as a SSLError can actually be\u001b[0m\u001b[1;33m\u001b[0m\u001b[1;33m\u001b[0m\u001b[0m\n",
      "\u001b[1;32mC:\\Users\\Student\\Anaconda3\\lib\\site-packages\\tweepy\\streaming.py\u001b[0m in \u001b[0;36m_read_loop\u001b[1;34m(self, resp)\u001b[0m\n\u001b[0;32m    322\u001b[0m             \u001b[0mnext_status_obj\u001b[0m \u001b[1;33m=\u001b[0m \u001b[0mbuf\u001b[0m\u001b[1;33m.\u001b[0m\u001b[0mread_len\u001b[0m\u001b[1;33m(\u001b[0m\u001b[0mlength\u001b[0m\u001b[1;33m)\u001b[0m\u001b[1;33m\u001b[0m\u001b[0m\n\u001b[0;32m    323\u001b[0m             \u001b[1;32mif\u001b[0m \u001b[0mself\u001b[0m\u001b[1;33m.\u001b[0m\u001b[0mrunning\u001b[0m\u001b[1;33m:\u001b[0m\u001b[1;33m\u001b[0m\u001b[0m\n\u001b[1;32m--> 324\u001b[1;33m                 \u001b[0mself\u001b[0m\u001b[1;33m.\u001b[0m\u001b[0m_data\u001b[0m\u001b[1;33m(\u001b[0m\u001b[0mnext_status_obj\u001b[0m\u001b[1;33m)\u001b[0m\u001b[1;33m\u001b[0m\u001b[0m\n\u001b[0m\u001b[0;32m    325\u001b[0m \u001b[1;33m\u001b[0m\u001b[0m\n\u001b[0;32m    326\u001b[0m             \u001b[1;31m# # Note: keep-alive newlines might be inserted before each length value.\u001b[0m\u001b[1;33m\u001b[0m\u001b[1;33m\u001b[0m\u001b[0m\n",
      "\u001b[1;32mC:\\Users\\Student\\Anaconda3\\lib\\site-packages\\tweepy\\streaming.py\u001b[0m in \u001b[0;36m_data\u001b[1;34m(self, data)\u001b[0m\n\u001b[0;32m    295\u001b[0m \u001b[1;33m\u001b[0m\u001b[0m\n\u001b[0;32m    296\u001b[0m     \u001b[1;32mdef\u001b[0m \u001b[0m_data\u001b[0m\u001b[1;33m(\u001b[0m\u001b[0mself\u001b[0m\u001b[1;33m,\u001b[0m \u001b[0mdata\u001b[0m\u001b[1;33m)\u001b[0m\u001b[1;33m:\u001b[0m\u001b[1;33m\u001b[0m\u001b[0m\n\u001b[1;32m--> 297\u001b[1;33m         \u001b[1;32mif\u001b[0m \u001b[0mself\u001b[0m\u001b[1;33m.\u001b[0m\u001b[0mlistener\u001b[0m\u001b[1;33m.\u001b[0m\u001b[0mon_data\u001b[0m\u001b[1;33m(\u001b[0m\u001b[0mdata\u001b[0m\u001b[1;33m)\u001b[0m \u001b[1;32mis\u001b[0m \u001b[1;32mFalse\u001b[0m\u001b[1;33m:\u001b[0m\u001b[1;33m\u001b[0m\u001b[0m\n\u001b[0m\u001b[0;32m    298\u001b[0m             \u001b[0mself\u001b[0m\u001b[1;33m.\u001b[0m\u001b[0mrunning\u001b[0m \u001b[1;33m=\u001b[0m \u001b[1;32mFalse\u001b[0m\u001b[1;33m\u001b[0m\u001b[0m\n\u001b[0;32m    299\u001b[0m \u001b[1;33m\u001b[0m\u001b[0m\n",
      "\u001b[1;32mC:\\Users\\Student\\Anaconda3\\lib\\site-packages\\tweepy\\streaming.py\u001b[0m in \u001b[0;36mon_data\u001b[1;34m(self, raw_data)\u001b[0m\n\u001b[0;32m     52\u001b[0m         \u001b[1;32mif\u001b[0m \u001b[1;34m'in_reply_to_status_id'\u001b[0m \u001b[1;32min\u001b[0m \u001b[0mdata\u001b[0m\u001b[1;33m:\u001b[0m\u001b[1;33m\u001b[0m\u001b[0m\n\u001b[0;32m     53\u001b[0m             \u001b[0mstatus\u001b[0m \u001b[1;33m=\u001b[0m \u001b[0mStatus\u001b[0m\u001b[1;33m.\u001b[0m\u001b[0mparse\u001b[0m\u001b[1;33m(\u001b[0m\u001b[0mself\u001b[0m\u001b[1;33m.\u001b[0m\u001b[0mapi\u001b[0m\u001b[1;33m,\u001b[0m \u001b[0mdata\u001b[0m\u001b[1;33m)\u001b[0m\u001b[1;33m\u001b[0m\u001b[0m\n\u001b[1;32m---> 54\u001b[1;33m             \u001b[1;32mif\u001b[0m \u001b[0mself\u001b[0m\u001b[1;33m.\u001b[0m\u001b[0mon_status\u001b[0m\u001b[1;33m(\u001b[0m\u001b[0mstatus\u001b[0m\u001b[1;33m)\u001b[0m \u001b[1;32mis\u001b[0m \u001b[1;32mFalse\u001b[0m\u001b[1;33m:\u001b[0m\u001b[1;33m\u001b[0m\u001b[0m\n\u001b[0m\u001b[0;32m     55\u001b[0m                 \u001b[1;32mreturn\u001b[0m \u001b[1;32mFalse\u001b[0m\u001b[1;33m\u001b[0m\u001b[0m\n\u001b[0;32m     56\u001b[0m         \u001b[1;32melif\u001b[0m \u001b[1;34m'delete'\u001b[0m \u001b[1;32min\u001b[0m \u001b[0mdata\u001b[0m\u001b[1;33m:\u001b[0m\u001b[1;33m\u001b[0m\u001b[0m\n",
      "\u001b[1;32m<ipython-input-228-89f210ff6486>\u001b[0m in \u001b[0;36mon_status\u001b[1;34m(self, status)\u001b[0m\n\u001b[0;32m     14\u001b[0m             \u001b[0mtranslation\u001b[0m \u001b[1;33m=\u001b[0m \u001b[0mresponse_json\u001b[0m\u001b[1;33m[\u001b[0m\u001b[1;34m\"responseData\"\u001b[0m\u001b[1;33m]\u001b[0m\u001b[1;33m[\u001b[0m\u001b[1;34m\"translatedText\"\u001b[0m\u001b[1;33m]\u001b[0m\u001b[1;33m\u001b[0m\u001b[0m\n\u001b[0;32m     15\u001b[0m             \u001b[0mtranslator_name\u001b[0m \u001b[1;33m=\u001b[0m \u001b[1;34m\"MemoryNet Translation Service\"\u001b[0m\u001b[1;33m\u001b[0m\u001b[0m\n\u001b[1;32m---> 16\u001b[1;33m             \u001b[0mvs\u001b[0m \u001b[1;33m=\u001b[0m \u001b[0manalyzer\u001b[0m\u001b[1;33m.\u001b[0m\u001b[0mpolarity_scores\u001b[0m\u001b[1;33m(\u001b[0m\u001b[0mtranslation\u001b[0m\u001b[1;33m)\u001b[0m\u001b[1;33m\u001b[0m\u001b[0m\n\u001b[0m\u001b[0;32m     17\u001b[0m             \u001b[0msent\u001b[0m \u001b[1;33m=\u001b[0m \u001b[0mvs\u001b[0m\u001b[1;33m[\u001b[0m\u001b[1;34m'compound'\u001b[0m\u001b[1;33m]\u001b[0m\u001b[1;33m\u001b[0m\u001b[0m\n\u001b[0;32m     18\u001b[0m             \u001b[0mprint\u001b[0m\u001b[1;33m(\u001b[0m\u001b[1;34m'noneng'\u001b[0m\u001b[1;33m)\u001b[0m\u001b[1;33m\u001b[0m\u001b[0m\n",
      "\u001b[1;32mC:\\Users\\Student\\Anaconda3\\lib\\site-packages\\vaderSentiment\\vaderSentiment.py\u001b[0m in \u001b[0;36mpolarity_scores\u001b[1;34m(self, text)\u001b[0m\n\u001b[0;32m    216\u001b[0m         \u001b[0mvalence\u001b[0m\u001b[1;33m.\u001b[0m\u001b[1;33m\u001b[0m\u001b[0m\n\u001b[0;32m    217\u001b[0m         \"\"\"\n\u001b[1;32m--> 218\u001b[1;33m         \u001b[0msentitext\u001b[0m \u001b[1;33m=\u001b[0m \u001b[0mSentiText\u001b[0m\u001b[1;33m(\u001b[0m\u001b[0mtext\u001b[0m\u001b[1;33m)\u001b[0m\u001b[1;33m\u001b[0m\u001b[0m\n\u001b[0m\u001b[0;32m    219\u001b[0m         \u001b[1;31m#text, words_and_emoticons, is_cap_diff = self.preprocess(text)\u001b[0m\u001b[1;33m\u001b[0m\u001b[1;33m\u001b[0m\u001b[0m\n\u001b[0;32m    220\u001b[0m \u001b[1;33m\u001b[0m\u001b[0m\n",
      "\u001b[1;32mC:\\Users\\Student\\Anaconda3\\lib\\site-packages\\vaderSentiment\\vaderSentiment.py\u001b[0m in \u001b[0;36m__init__\u001b[1;34m(self, text)\u001b[0m\n\u001b[0;32m    148\u001b[0m     \u001b[1;32mdef\u001b[0m \u001b[0m__init__\u001b[0m\u001b[1;33m(\u001b[0m\u001b[0mself\u001b[0m\u001b[1;33m,\u001b[0m \u001b[0mtext\u001b[0m\u001b[1;33m)\u001b[0m\u001b[1;33m:\u001b[0m\u001b[1;33m\u001b[0m\u001b[0m\n\u001b[0;32m    149\u001b[0m         \u001b[1;32mif\u001b[0m \u001b[1;32mnot\u001b[0m \u001b[0misinstance\u001b[0m\u001b[1;33m(\u001b[0m\u001b[0mtext\u001b[0m\u001b[1;33m,\u001b[0m \u001b[0mstr\u001b[0m\u001b[1;33m)\u001b[0m\u001b[1;33m:\u001b[0m\u001b[1;33m\u001b[0m\u001b[0m\n\u001b[1;32m--> 150\u001b[1;33m             \u001b[0mtext\u001b[0m \u001b[1;33m=\u001b[0m \u001b[0mstr\u001b[0m\u001b[1;33m(\u001b[0m\u001b[0mtext\u001b[0m\u001b[1;33m.\u001b[0m\u001b[0mencode\u001b[0m\u001b[1;33m(\u001b[0m\u001b[1;34m'utf-8'\u001b[0m\u001b[1;33m)\u001b[0m\u001b[1;33m)\u001b[0m\u001b[1;33m\u001b[0m\u001b[0m\n\u001b[0m\u001b[0;32m    151\u001b[0m         \u001b[0mself\u001b[0m\u001b[1;33m.\u001b[0m\u001b[0mtext\u001b[0m \u001b[1;33m=\u001b[0m \u001b[0mtext\u001b[0m\u001b[1;33m\u001b[0m\u001b[0m\n\u001b[0;32m    152\u001b[0m         \u001b[0mself\u001b[0m\u001b[1;33m.\u001b[0m\u001b[0mwords_and_emoticons\u001b[0m \u001b[1;33m=\u001b[0m \u001b[0mself\u001b[0m\u001b[1;33m.\u001b[0m\u001b[0m_words_and_emoticons\u001b[0m\u001b[1;33m(\u001b[0m\u001b[1;33m)\u001b[0m\u001b[1;33m\u001b[0m\u001b[0m\n",
      "\u001b[1;31mAttributeError\u001b[0m: 'NoneType' object has no attribute 'encode'"
     ]
    }
   ],
   "source": [
    "l = StdOutListener()\n",
    "auth = tweepy.OAuthHandler(apikey, apisecret)\n",
    "auth.set_access_token(accesstoken, tokensecret)\n",
    "api = tweepy.API(auth)\n",
    "stream = Stream(auth, l)\n",
    "stream.filter(track=['starbucks'])"
   ]
  },
  {
   "cell_type": "code",
   "execution_count": null,
   "metadata": {
    "collapsed": true
   },
   "outputs": [],
   "source": []
  }
 ],
 "metadata": {
  "kernelspec": {
   "display_name": "Python 3",
   "language": "python",
   "name": "python3"
  },
  "language_info": {
   "codemirror_mode": {
    "name": "ipython",
    "version": 3
   },
   "file_extension": ".py",
   "mimetype": "text/x-python",
   "name": "python",
   "nbconvert_exporter": "python",
   "pygments_lexer": "ipython3",
   "version": "3.6.1"
  }
 },
 "nbformat": 4,
 "nbformat_minor": 2
}
