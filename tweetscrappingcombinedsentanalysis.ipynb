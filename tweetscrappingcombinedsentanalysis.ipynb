{
 "cells": [
  {
   "cell_type": "markdown",
   "metadata": {
    "collapsed": true
   },
   "source": [
    "import tweepy\n",
    "import json"
   ]
  },
  {
   "cell_type": "markdown",
   "metadata": {},
   "source": [
    "class StdOutListener(StreamListener):\n",
    "    def on_status(self, status):\n",
    "        print(status.text)\n",
    "        return True\n",
    "    def on_error(self, status_code):\n",
    "        if status_code == 420:\n",
    "            return False"
   ]
  },
  {
   "cell_type": "code",
   "execution_count": 7,
   "metadata": {
    "collapsed": true
   },
   "outputs": [],
   "source": [
    "import pyodbc\n",
    "conn = pyodbc.connect(r'DSN=starbucks')\n",
    "curr= conn.cursor()"
   ]
  },
  {
   "cell_type": "code",
   "execution_count": 68,
   "metadata": {},
   "outputs": [],
   "source": [
    "from __future__ import absolute_import, print_function\n",
    "from tweepy.streaming import StreamListener\n",
    "from tweepy import OAuthHandler\n",
    "from tweepy import Stream\n",
    "from sqlalchemy.exc import ProgrammingError\n",
    "import tweepy\n",
    "import emoji\n",
    "from vaderSentiment.vaderSentiment import SentimentIntensityAnalyzer\n",
    "import math, re, string, requests, json\n",
    "\n",
    "analyzer = SentimentIntensityAnalyzer()\n",
    "\n",
    "languages = [\"English\", \"French\", \"German\", \"Spanish\", \"Italian\", \"Russian\", \"Japanese\", \"Arabic\", \"Chinese\"]\n",
    "language_codes = [\"en\", \"fr\", \"de\", \"es\", \"it\", \"ru\", \"ja\", \"ar\", \"zh\"]\n",
    "\n",
    "\n",
    "apikey = 'lQr03iVJ9Rs3kVBOlZt07ak7q'\n",
    "apisecret ='mght8IbXaNJ2au57BabPZAqIFh4USJJF4V5GTXGPKdbVCdhd3u'\n",
    "accesstoken = '887695854076915712-bIE18SRELRjCFp5x0iq469G2vb02HRw'\n",
    "tokensecret = 'jEJREL1NQhrI0galiaGqDIf9hu6D5mEo5Hjj1suH45YIn'\n",
    "\n",
    "   \n",
    "    \n",
    "class StdOutListener(StreamListener):\n",
    "    def on_status(self, status):\n",
    "    \n",
    "        \n",
    "        #api_url = \"http://mymemory.translated.net/api/get?q={}&langpair={}|{}\".format(status.text, from_lang, \"en\")\n",
    "       # hdrs ={'User-Agent': 'Mozilla/5.0 (X11; Linux x86_64) AppleWebKit/537.11 (KHTML, like Gecko) Chrome/23.0.1271.64 Safari/537.11',\n",
    "        #'Accept': 'text/html,application/xhtml+xml,application/xml;q=0.9,*/*;q=0.8',\n",
    "        #'Accept-Charset': 'ISO-8859-1,utf-8;q=0.7,*;q=0.3',\n",
    "        #'Accept-Encoding': 'none',\n",
    "        #'Accept-Language': 'en-US,en;q=0.8',\n",
    "        #'Connection': 'keep-alive'}\n",
    "        #response = requests.get(api_url, headers=hdrs)\n",
    "        #response_json = json.loads(response.text)\n",
    "        #translation = response_json[\"responseData\"][\"translatedText\"]\n",
    "        #translator_name = \"MemoryNet Translation Service\"\n",
    "        \n",
    "        \n",
    "        #vs = analyzer.polarity_scores(translation)\n",
    "        vs = analyzer.polarity_scores(status.text)\n",
    "        sent = vs['compound']\n",
    "        \n",
    "        status.text = str.replace(status.text, '\\'', '\\'\\'')\n",
    "        q= 'insert into starbucks(\\\n",
    "        id_str, created,Uk_time, text, fav,name, followers, sentiment)\\\n",
    "        values (\\'%s\\',\\'%s\\', getdate(),\\'%s\\',\\'%s\\',\\'%s\\',\\'%s\\', \\'%s\\',\\'%s\\')'\\\n",
    "        %(status.id_str, status.created_at, status.text, status.favorite_count, status.user.screen_name,\\\n",
    "          status.user.followers_count, sent, status.user.lang)\n",
    "        \n",
    "     \n",
    "        try:\n",
    "            curr.execute(q)\n",
    "            conn.commit()\n",
    "            \n",
    "        except:\n",
    "            print(q)\n",
    "        #('insert into starbucks(\\\n",
    "        #id_str, created,text, fav,name, description, loc, user_created, follower)\\\n",
    "        #values (%s,%s,%s,%s,%s,%s,%s,%s,%s)'\\\n",
    "        #%(status.id_str, status.created_at, status.text, status.favorite_count, status.user.screen_name, status.user.description, status.user.location, status.user.created_at, status.user.followers_count))\n",
    "        \n",
    "        \n",
    "        #print ('hi my name is %s, and my age is %s' % (name,age))\n",
    "        #curr.execute():\n",
    "        #id_str = status.id_str\n",
    "        #created = status.created_at\n",
    "        #text = status.text\n",
    "        #fav = status.favorite_count\n",
    "        #name = status.user.screen_name\n",
    "        #description = status.user.description\n",
    "        #loc = status.user.location\n",
    "        #user_created = status.user.created_at\n",
    "        #followers = status.user.followers_count\n",
    "\n",
    "    #conn = pyodbc.connect(r'DSN=starbucks')\n",
    "    #curr= conn.cursor()\n",
    "\n",
    "        #table = db['myTable']\n",
    "\n",
    "               \n",
    "    def on_error(self, status_code):\n",
    "        if status_code == 420:\n",
    "            return False\n",
    "\n",
    "if __name__ == '__main__':\n",
    "    l = StdOutListener()\n",
    "    auth = tweepy.OAuthHandler(apikey, apisecret)\n",
    "    auth.set_access_token(accesstoken, tokensecret)\n",
    "    api = tweepy.API(auth)\n",
    "    stream = Stream(auth, l)\n",
    "    stream.filter(track=['starbucks',])"
   ]
  },
  {
   "cell_type": "code",
   "execution_count": 46,
   "metadata": {},
   "outputs": [
    {
     "data": {
      "text/plain": [
       "'C:\\\\Users\\\\Student\\\\Notebook'"
      ]
     },
     "execution_count": 46,
     "metadata": {},
     "output_type": "execute_result"
    }
   ],
   "source": [
    "pwd"
   ]
  },
  {
   "cell_type": "code",
   "execution_count": 35,
   "metadata": {
    "collapsed": true
   },
   "outputs": [],
   "source": [
    "name = \"ali\"\n",
    "age = 12\n",
    "gender = \"male\""
   ]
  },
  {
   "cell_type": "code",
   "execution_count": 43,
   "metadata": {},
   "outputs": [
    {
     "name": "stdout",
     "output_type": "stream",
     "text": [
      "hi my name is ali, and my age is 12\n"
     ]
    }
   ],
   "source": [
    "print ('hi my name is %s, and my age is %s' % (name,age))"
   ]
  },
  {
   "cell_type": "code",
   "execution_count": 44,
   "metadata": {},
   "outputs": [
    {
     "ename": "NameError",
     "evalue": "name 'status' is not defined",
     "output_type": "error",
     "traceback": [
      "\u001b[1;31m---------------------------------------------------------------------------\u001b[0m",
      "\u001b[1;31mNameError\u001b[0m                                 Traceback (most recent call last)",
      "\u001b[1;32m<ipython-input-44-0679a61a105b>\u001b[0m in \u001b[0;36m<module>\u001b[1;34m()\u001b[0m\n\u001b[1;32m----> 1\u001b[1;33m \u001b[0mstatus\u001b[0m\u001b[1;33m.\u001b[0m\u001b[0mid_str\u001b[0m\u001b[1;33m\u001b[0m\u001b[0m\n\u001b[0m",
      "\u001b[1;31mNameError\u001b[0m: name 'status' is not defined"
     ]
    }
   ],
   "source": [
    "status.id_str"
   ]
  }
 ],
 "metadata": {
  "kernelspec": {
   "display_name": "Python 3",
   "language": "python",
   "name": "python3"
  },
  "language_info": {
   "codemirror_mode": {
    "name": "ipython",
    "version": 3
   },
   "file_extension": ".py",
   "mimetype": "text/x-python",
   "name": "python",
   "nbconvert_exporter": "python",
   "pygments_lexer": "ipython3",
   "version": "3.6.1"
  }
 },
 "nbformat": 4,
 "nbformat_minor": 2
}
