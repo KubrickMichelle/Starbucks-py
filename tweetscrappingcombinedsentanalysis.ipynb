{
 "cells": [
  {
   "cell_type": "markdown",
   "metadata": {
    "collapsed": true
   },
   "source": [
    "import tweepy\n",
    "import json"
   ]
  },
  {
   "cell_type": "markdown",
   "metadata": {},
   "source": []
  },
  {
   "cell_type": "code",
   "execution_count": 160,
   "metadata": {
    "collapsed": true
   },
   "outputs": [],
   "source": [
    "import pyodbc\n",
    "from __future__ import absolute_import, print_function\n",
    "from tweepy.streaming import StreamListener\n",
    "from tweepy import OAuthHandler\n",
    "from tweepy import Stream\n",
    "from sqlalchemy.exc import ProgrammingError\n",
    "import tweepy\n",
    "import emoji\n",
    "from vaderSentiment.vaderSentiment import SentimentIntensityAnalyzer\n",
    "import math, re, string, requests, json\n",
    "\n"
   ]
  },
  {
   "cell_type": "code",
   "execution_count": 161,
   "metadata": {
    "collapsed": true
   },
   "outputs": [],
   "source": [
    "conn = pyodbc.connect(r'DSN=starbucks')\n",
    "curr= conn.cursor()\n",
    "analyzer = SentimentIntensityAnalyzer()\n",
    "\n",
    "\n",
    "language_codes = [\"fr\", \"de\", \"es\", \"it\", \"ru\", \"ja\", \"ar\", \"zh\"]\n",
    "\n",
    "\n",
    "apikey = 'lQr03iVJ9Rs3kVBOlZt07ak7q'\n",
    "apisecret ='mght8IbXaNJ2au57BabPZAqIFh4USJJF4V5GTXGPKdbVCdhd3u'\n",
    "accesstoken = '887695854076915712-bIE18SRELRjCFp5x0iq469G2vb02HRw'\n",
    "tokensecret = 'jEJREL1NQhrI0galiaGqDIf9hu6D5mEo5Hjj1suH45YIn'\n"
   ]
  },
  {
   "cell_type": "code",
   "execution_count": 175,
   "metadata": {},
   "outputs": [],
   "source": [
    "class StdOutListener(StreamListener):\n",
    "    def on_status(self, status):\n",
    "    \n",
    "        if status.user.lang in language_codes:\n",
    "            api_url = \"http://mymemory.translated.net/api/get?q={}&langpair={}|{}\".format(status.text, status.user.lang, \"en\")\n",
    "            hdrs ={'User-Agent': 'Mozilla/5.0 (X11; Linux x86_64) AppleWebKit/537.11 (KHTML, like Gecko) Chrome/23.0.1271.64 Safari/537.11',\n",
    "            'Accept': 'text/html,application/xhtml+xml,application/xml;q=0.9,*/*;q=0.8',\n",
    "            'Accept-Charset': 'ISO-8859-1,utf-8;q=0.7,*;q=0.3',\n",
    "            'Accept-Encoding': 'none',\n",
    "            'Accept-Language': 'en-US,en;q=0.8',\n",
    "            'Connection': 'keep-alive'}\n",
    "            response = requests.get(api_url, headers=hdrs)\n",
    "            response_json = json.loads(response.text)\n",
    "            translation = response_json[\"responseData\"][\"translatedText\"]\n",
    "            translator_name = \"MemoryNet Translation Service\"\n",
    "            vs = analyzer.polarity_scores(translation)\n",
    "            sent = vs['compound']\n",
    "            print(non-eng)\n",
    "        else:\n",
    "            vs = analyzer.polarity_scores(status.text)\n",
    "            sent = vs['compound']\n",
    "            print(eng)\n",
    "        \n",
    "        status.text = str.replace(status.text, '\\'', '\\'\\'')\n",
    "        q= 'insert into starbucks(\\\n",
    "        id_str, created,Uk_time, text, fav,name, followers, sentiment, language)\\\n",
    "        values (\\'%s\\',\\'%s\\', getdate(),\\'%s\\',\\'%s\\',\\'%s\\',\\'%s\\', \\'%s\\',\\'%s\\,\\'%s\\')'\\\n",
    "        %(status.id_str, status.created_at, status.text, status.favorite_count, status.user.screen_name,\\\n",
    "          status.user.followers_count, sent, status.user.lang, translation)\n",
    "        \n",
    "     \n",
    "        try:\n",
    "            curr.execute(q)\n",
    "            conn.commit()\n",
    "            \n",
    "        except:\n",
    "            print(q)\n",
    "        #('insert into starbucks(\\\n",
    "        #id_str, created,text, fav,name, description, loc, user_created, follower)\\\n",
    "        #values (%s,%s,%s,%s,%s,%s,%s,%s,%s)'\\\n",
    "        #%(status.id_str, status.created_at, status.text, status.favorite_count, status.user.screen_name, status.user.description, status.user.location, status.user.created_at, status.user.followers_count))\n",
    "        \n",
    "        \n",
    "         \n",
    "               \n",
    "    def on_error(self, status_code):\n",
    "        if status_code == 420:\n",
    "            return False\n",
    "\n"
   ]
  },
  {
   "cell_type": "code",
   "execution_count": 196,
   "metadata": {},
   "outputs": [],
   "source": [
    "l = StdOutListener()\n",
    "auth = tweepy.OAuthHandler(apikey, apisecret)\n",
    "auth.set_access_token(accesstoken, tokensecret)\n",
    "api = tweepy.API(auth)\n",
    "stream = Stream(auth, l)\n",
    "stream.filter(track=['starbucks'])"
   ]
  },
  {
   "cell_type": "code",
   "execution_count": null,
   "metadata": {},
   "outputs": [],
   "source": []
  },
  {
   "cell_type": "code",
   "execution_count": null,
   "metadata": {
    "collapsed": true
   },
   "outputs": [],
   "source": []
  }
 ],
 "metadata": {
  "kernelspec": {
   "display_name": "Python 3",
   "language": "python",
   "name": "python3"
  },
  "language_info": {
   "codemirror_mode": {
    "name": "ipython",
    "version": 3
   },
   "file_extension": ".py",
   "mimetype": "text/x-python",
   "name": "python",
   "nbconvert_exporter": "python",
   "pygments_lexer": "ipython3",
   "version": "3.6.1"
  }
 },
 "nbformat": 4,
 "nbformat_minor": 2
}
