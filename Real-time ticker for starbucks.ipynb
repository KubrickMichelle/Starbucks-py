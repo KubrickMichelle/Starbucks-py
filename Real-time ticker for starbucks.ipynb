{
 "cells": [
  {
   "cell_type": "markdown",
   "metadata": {},
   "source": [
    "# Real-time ticker for SBUX prices"
   ]
  },
  {
   "cell_type": "markdown",
   "metadata": {},
   "source": [
    "*******************************************************************************\n",
    "    #Created at: 26/07/2017\n",
    "    #Author: Michelle Malone\n",
    "    #Purpose: Using a Url to generate a live ticker stream of SBUX share prices. \n",
    "********************************************************************************"
   ]
  },
  {
   "cell_type": "code",
   "execution_count": null,
   "metadata": {
    "collapsed": true
   },
   "outputs": [],
   "source": [
    "# importing libraries to be used\n",
    "\n",
    "import bs4 as bs \n",
    "from urllib.request import Request, urlopen\n",
    "import pyodbc\n",
    "from datetime import datetime\n",
    "import time"
   ]
  },
  {
   "cell_type": "code",
   "execution_count": null,
   "metadata": {
    "collapsed": true
   },
   "outputs": [],
   "source": [
    "#Connect to the SQL server\n",
    "conn = pyodbc.connect(r'DSN=ticker')\n",
    "curr= conn.cursor()\n",
    "\n",
    "#Define a function\n",
    "def priceinformation():   \n",
    "    req=Request('https://uk.investing.com/equities/starbucks-corp', headers={'User-Agent': 'Mozilla/5.0'})\n",
    "    \n",
    "#Read through the URL which contains SBUX ticker    \n",
    "    webpage = urlopen(req).read()  \n",
    "    s = bs.BeautifulSoup(webpage,'html.parser')\n",
    "\n",
    "#Pass through the html and search for 'class' and the string of words      \n",
    "    Priceline = s.find_all('span', {'class':'arial_26 inlineblock pid-6500-last'})\n",
    "    Dateline = s.find_all('span', {'class': 'bold pid-6500-time'})\n",
    "\n",
    "#for loop: iterate through the Dateline, if ':' doesn't exist a -1 will be produced.\n",
    "#Therefore only continue the loop if this value is greater than zero\n",
    "    for e in Dateline:\n",
    "        codeline = str(e)\n",
    "        if codeline.find(':')>0:\n",
    "            position= codeline.find(':')\n",
    "            Time =codeline[position -2: position +6]\n",
    "#transform the string into a datetime format\n",
    "            FinalTime =datetime.strptime(str(datetime.now()),'%Y-%m-%d %H:%M:%S.%f') \n",
    "            daytime = 1   #daytime=1: daytime \n",
    "            \n",
    "            \n",
    "        else: \n",
    "            daytime=0    #daytime=0: nighttime \n",
    "       \n",
    "         \n",
    "    for e in Priceline:   #for loop: iterate through the Priceline \n",
    "        if daytime == 1:\n",
    "            codeline =str(e)\n",
    "            position = codeline.find('.')   #look for '.', is the dp in the price e.g 58.64 \n",
    "            Price = codeline[position -2:position +3] \n",
    "            \n",
    "    \n",
    "    if daytime == 1:     #Will only insert into sql table during daytime hours and when the market is open   \n",
    "        curr.execute('insert into ticker (Uk_time, [Price]) values(?,?)', FinalTime, Price)\n",
    "        conn.commit()"
   ]
  },
  {
   "cell_type": "code",
   "execution_count": 88,
   "metadata": {},
   "outputs": [
    {
     "ename": "KeyboardInterrupt",
     "evalue": "",
     "output_type": "error",
     "traceback": [
      "\u001b[1;31m---------------------------------------------------------------------------\u001b[0m",
      "\u001b[1;31mKeyboardInterrupt\u001b[0m                         Traceback (most recent call last)",
      "\u001b[1;32m<ipython-input-88-56f4b4d23f8f>\u001b[0m in \u001b[0;36m<module>\u001b[1;34m()\u001b[0m\n\u001b[0;32m      1\u001b[0m \u001b[1;32mwhile\u001b[0m \u001b[1;32mTrue\u001b[0m\u001b[1;33m:\u001b[0m\u001b[1;33m\u001b[0m\u001b[0m\n\u001b[0;32m      2\u001b[0m     \u001b[0mpriceinformation\u001b[0m\u001b[1;33m(\u001b[0m\u001b[1;33m)\u001b[0m\u001b[1;33m\u001b[0m\u001b[0m\n\u001b[1;32m----> 3\u001b[1;33m     \u001b[0mtime\u001b[0m\u001b[1;33m.\u001b[0m\u001b[0msleep\u001b[0m\u001b[1;33m(\u001b[0m\u001b[1;36m60\u001b[0m\u001b[1;33m)\u001b[0m\u001b[1;33m\u001b[0m\u001b[0m\n\u001b[0m",
      "\u001b[1;31mKeyboardInterrupt\u001b[0m: "
     ]
    }
   ],
   "source": [
    "#while loop: loop through the function priceinformation, every 60 seconds\n",
    "while True:\n",
    "    priceinformation()\n",
    "    time.sleep(60)"
   ]
  },
  {
   "cell_type": "code",
   "execution_count": null,
   "metadata": {
    "collapsed": true
   },
   "outputs": [],
   "source": []
  }
 ],
 "metadata": {
  "kernelspec": {
   "display_name": "Python 3",
   "language": "python",
   "name": "python3"
  },
  "language_info": {
   "codemirror_mode": {
    "name": "ipython",
    "version": 3
   },
   "file_extension": ".py",
   "mimetype": "text/x-python",
   "name": "python",
   "nbconvert_exporter": "python",
   "pygments_lexer": "ipython3",
   "version": "3.6.1"
  }
 },
 "nbformat": 4,
 "nbformat_minor": 1
}
