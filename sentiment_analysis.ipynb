{
 "cells": [
  {
   "cell_type": "code",
   "execution_count": 22,
   "metadata": {
    "collapsed": true
   },
   "outputs": [],
   "source": [
    "from vaderSentiment.vaderSentiment import SentimentIntensityAnalyzer"
   ]
  },
  {
   "cell_type": "code",
   "execution_count": 23,
   "metadata": {
    "collapsed": true
   },
   "outputs": [],
   "source": [
    "analyser = SentimentIntensityAnalyzer()"
   ]
  },
  {
   "cell_type": "code",
   "execution_count": 35,
   "metadata": {
    "collapsed": true
   },
   "outputs": [],
   "source": [
    "import math, re, string, requests, json"
   ]
  },
  {
   "cell_type": "code",
   "execution_count": 36,
   "metadata": {
    "collapsed": true
   },
   "outputs": [],
   "source": [
    "def print_sentiment_scores(sentence):\n",
    "    snt = analyser.polarity_scores(sentence)\n",
    "    print('{:<40} {}'.format(sentence, str(snt)))"
   ]
  },
  {
   "cell_type": "code",
   "execution_count": 37,
   "metadata": {},
   "outputs": [],
   "source": [
    "languages = [\"English\", \"French\", \"German\", \"Spanish\", \"Italian\", \"Russian\", \"Japanese\", \"Arabic\", \"Chinese\"]\n",
    "language_codes = [\"en\", \"fr\", \"de\", \"es\", \"it\", \"ru\", \"ja\", \"ar\", \"zh\"]"
   ]
  },
  {
   "cell_type": "code",
   "execution_count": 38,
   "metadata": {
    "collapsed": true
   },
   "outputs": [],
   "source": [
    "nonEnglish_sentences = [\"I'm surprised to see just how amazingly helpful VADER is!\",\n",
    "                                \"Je suis surpris de voir juste comment incroyablement utile VADER est!\",\n",
    "                                \"Ich bin überrascht zu sehen, nur wie erstaunlich nützlich VADER!\",\n",
    "                                \"Me sorprende ver sólo cómo increíblemente útil VADER!\",\n",
    "                                \"Sono sorpreso di vedere solo come incredibilmente utile VADER è!\",\n",
    "                                \"Я удивлен увидеть, как раз как удивительно полезно ВЕЙДЕРА!\",\n",
    "                                \"私はちょうどどのように驚くほど役に立つベイダーを見て驚いています!\",\n",
    "                                \"أنا مندهش لرؤية فقط كيف مثير للدهشة فيدر فائدة!\",\n",
    "                                \"惊讶地看到有用维德是的只是如何令人惊讶了 ！\",\n",
    "                                ]"
   ]
  },
  {
   "cell_type": "code",
   "execution_count": 39,
   "metadata": {},
   "outputs": [
    {
     "name": "stdout",
     "output_type": "stream",
     "text": [
      "- English : I'm surprised to see just how amazingly helpful VADER is!            \t 0.6468 (No translation needed)\n",
      "- French  : Je suis surpris de voir juste comment incroyablement utile VADER est!\t 0.6581 (MemoryNet Translation Service)\n",
      "- German  : Ich bin überrascht zu sehen, nur wie erstaunlich nützlich VADER!     \t 0.6581 (MemoryNet Translation Service)\n",
      "- Spanish : Me sorprende ver sólo cómo increíblemente útil VADER!                \t 0.6581 (MemoryNet Translation Service)\n",
      "- Italian : Sono sorpreso di vedere solo come incredibilmente utile VADER è!     \t 0.6581 (MemoryNet Translation Service)\n",
      "- Russian : Я удивлен увидеть, как раз как удивительно полезно ВЕЙДЕРА!          \t 0.6581 (MemoryNet Translation Service)\n",
      "- Japanese: 私はちょうどどのように驚くほど役に立つベイダーを見て驚いています!                                    \t 0.6114 (MemoryNet Translation Service)\n",
      "- Arabic  : أنا مندهش لرؤية فقط كيف مثير للدهشة فيدر فائدة!                      \t 0.7177 (MemoryNet Translation Service)\n",
      "- Chinese : 惊讶地看到有用维德是的只是如何令人惊讶了 ！                                               \t 0.8356 (MemoryNet Translation Service)\n",
      "----------------------------------------------------\n"
     ]
    }
   ],
   "source": [
    "        for sentence in nonEnglish_sentences:\n",
    "            to_lang=\"en\"\n",
    "            from_lang=language_codes[nonEnglish_sentences.index(sentence)]\n",
    "            if (from_lang == \"en\") or (from_lang == \"en-US\"):\n",
    "                translation = sentence\n",
    "                translator_name = \"No translation needed\"\n",
    "            else: # please note usage limits for My Memory Translation Service:   http://mymemory.translated.net/doc/usagelimits.php\n",
    "                # using   MY MEMORY NET   http://mymemory.translated.net\n",
    "                api_url = \"http://mymemory.translated.net/api/get?q={}&langpair={}|{}\".format(sentence, from_lang, to_lang)\n",
    "                hdrs ={'User-Agent': 'Mozilla/5.0 (X11; Linux x86_64) AppleWebKit/537.11 (KHTML, like Gecko) Chrome/23.0.1271.64 Safari/537.11',\n",
    "                       'Accept': 'text/html,application/xhtml+xml,application/xml;q=0.9,*/*;q=0.8',\n",
    "                       'Accept-Charset': 'ISO-8859-1,utf-8;q=0.7,*;q=0.3',\n",
    "                       'Accept-Encoding': 'none',\n",
    "                       'Accept-Language': 'en-US,en;q=0.8',\n",
    "                       'Connection': 'keep-alive'}\n",
    "                response = requests.get(api_url, headers=hdrs)\n",
    "                response_json = json.loads(response.text)\n",
    "                translation = response_json[\"responseData\"][\"translatedText\"]\n",
    "                translator_name = \"MemoryNet Translation Service\"\n",
    "            vs = analyzer.polarity_scores(translation)\n",
    "            print(\"- {: <8}: {: <69}\\t {} ({})\".format(languages[nonEnglish_sentences.index(sentence)], sentence, str(vs['compound']), translator_name))\n",
    "        print(\"----------------------------------------------------\")"
   ]
  },
  {
   "cell_type": "code",
   "execution_count": 47,
   "metadata": {},
   "outputs": [
    {
     "name": "stdout",
     "output_type": "stream",
     "text": [
      "starbuck's ist prima!                    {'neg': 0.0, 'neu': 1.0, 'pos': 0.0, 'compound': 0.0}\n"
     ]
    }
   ],
   "source": [
    "print_sentiment_scores('starbuck\\'s ist prima!')"
   ]
  },
  {
   "cell_type": "code",
   "execution_count": 48,
   "metadata": {},
   "outputs": [
    {
     "name": "stdout",
     "output_type": "stream",
     "text": [
      "I just got a call from my boss - does he realise it's Saturday? :( {'neg': 0.209, 'neu': 0.791, 'pos': 0.0, 'compound': -0.4404}\n"
     ]
    }
   ],
   "source": [
    "print_sentiment_scores('I just got a call from my boss - does he realise it\\'s Saturday? :(')"
   ]
  },
  {
   "cell_type": "code",
   "execution_count": 49,
   "metadata": {},
   "outputs": [
    {
     "name": "stdout",
     "output_type": "stream",
     "text": [
      "The food is good                         {'neg': 0.0, 'neu': 0.508, 'pos': 0.492, 'compound': 0.4404}\n"
     ]
    }
   ],
   "source": [
    "print_sentiment_scores('The food is good')"
   ]
  },
  {
   "cell_type": "code",
   "execution_count": 50,
   "metadata": {},
   "outputs": [
    {
     "name": "stdout",
     "output_type": "stream",
     "text": [
      "The food is GOOD!!                       {'neg': 0.0, 'neu': 0.416, 'pos': 0.584, 'compound': 0.639}\n"
     ]
    }
   ],
   "source": [
    "print_sentiment_scores('The food is GOOD!!')"
   ]
  },
  {
   "cell_type": "code",
   "execution_count": 51,
   "metadata": {
    "collapsed": true
   },
   "outputs": [],
   "source": [
    "sentences = [\"VADER is smart, handsome, and funny.\",      # positive sentence example\n",
    "            \"VADER is not smart, handsome, nor funny.\",   # negation sentence example\n",
    "            \"VADER is smart, handsome, and funny!\",       # punctuation emphasis handled correctly (sentiment intensity adjusted)\n",
    "            \"VADER is very smart, handsome, and funny.\",  # booster words handled correctly (sentiment intensity adjusted)\n",
    "            \"VADER is VERY SMART, handsome, and FUNNY.\",  # emphasis for ALLCAPS handled\n",
    "            \"VADER is VERY SMART, handsome, and FUNNY!!!\",# combination of signals - VADER appropriately adjusts intensity\n",
    "            \"VADER is VERY SMART, uber handsome, and FRIGGIN FUNNY!!!\",# booster words & punctuation make this close to ceiling for score\n",
    "            \"The book was good.\",                                     # positive sentence\n",
    "            \"The book was kind of good.\",                 # qualified positive sentence is handled correctly (intensity adjusted)\n",
    "            \"The plot was good, but the characters are uncompelling and the dialog is not great.\", # mixed negation sentence\n",
    "            \"At least it isn't a horrible book.\",         # negated negative sentence with contraction\n",
    "            \"Make sure you :) or :D today!\",              # emoticons handled\n",
    "            \"Today SUX!\",                                 # negative slang with capitalization emphasis\n",
    "            \"Today only kinda sux! But I'll get by, lol\"  # mixed sentiment example with slang and constrastive conjunction \"but\"\n",
    "             ]"
   ]
  },
  {
   "cell_type": "code",
   "execution_count": 52,
   "metadata": {
    "collapsed": true
   },
   "outputs": [],
   "source": [
    "analyzer = SentimentIntensityAnalyzer()"
   ]
  },
  {
   "cell_type": "code",
   "execution_count": 53,
   "metadata": {},
   "outputs": [
    {
     "name": "stdout",
     "output_type": "stream",
     "text": [
      "VADER is smart, handsome, and funny.----------------------------- {'neg': 0.0, 'neu': 0.254, 'pos': 0.746, 'compound': 0.8316}\n",
      "VADER is not smart, handsome, nor funny.------------------------- {'neg': 0.646, 'neu': 0.354, 'pos': 0.0, 'compound': -0.7424}\n",
      "VADER is smart, handsome, and funny!----------------------------- {'neg': 0.0, 'neu': 0.248, 'pos': 0.752, 'compound': 0.8439}\n",
      "VADER is very smart, handsome, and funny.------------------------ {'neg': 0.0, 'neu': 0.299, 'pos': 0.701, 'compound': 0.8545}\n",
      "VADER is VERY SMART, handsome, and FUNNY.------------------------ {'neg': 0.0, 'neu': 0.246, 'pos': 0.754, 'compound': 0.9227}\n",
      "VADER is VERY SMART, handsome, and FUNNY!!!---------------------- {'neg': 0.0, 'neu': 0.233, 'pos': 0.767, 'compound': 0.9342}\n",
      "VADER is VERY SMART, uber handsome, and FRIGGIN FUNNY!!!--------- {'neg': 0.0, 'neu': 0.294, 'pos': 0.706, 'compound': 0.9469}\n",
      "The book was good.----------------------------------------------- {'neg': 0.0, 'neu': 0.508, 'pos': 0.492, 'compound': 0.4404}\n",
      "The book was kind of good.--------------------------------------- {'neg': 0.0, 'neu': 0.657, 'pos': 0.343, 'compound': 0.3832}\n",
      "The plot was good, but the characters are uncompelling and the dialog is not great. {'neg': 0.327, 'neu': 0.579, 'pos': 0.094, 'compound': -0.7042}\n",
      "At least it isn't a horrible book.------------------------------- {'neg': 0.0, 'neu': 0.637, 'pos': 0.363, 'compound': 0.431}\n",
      "Make sure you :) or :D today!------------------------------------ {'neg': 0.0, 'neu': 0.294, 'pos': 0.706, 'compound': 0.8633}\n",
      "Today SUX!------------------------------------------------------- {'neg': 0.779, 'neu': 0.221, 'pos': 0.0, 'compound': -0.5461}\n",
      "Today only kinda sux! But I'll get by, lol----------------------- {'neg': 0.179, 'neu': 0.569, 'pos': 0.251, 'compound': 0.2228}\n"
     ]
    }
   ],
   "source": [
    "for sentence in sentences:\n",
    "    vs = analyzer.polarity_scores(sentence)\n",
    "    print(\"{:-<65} {}\".format(sentence, str(vs)))"
   ]
  },
  {
   "cell_type": "code",
   "execution_count": 54,
   "metadata": {
    "collapsed": true
   },
   "outputs": [],
   "source": [
    "import nltk"
   ]
  },
  {
   "cell_type": "code",
   "execution_count": null,
   "metadata": {
    "collapsed": true
   },
   "outputs": [],
   "source": []
  },
  {
   "cell_type": "code",
   "execution_count": null,
   "metadata": {
    "collapsed": true
   },
   "outputs": [],
   "source": []
  },
  {
   "cell_type": "code",
   "execution_count": null,
   "metadata": {
    "collapsed": true
   },
   "outputs": [],
   "source": []
  },
  {
   "cell_type": "code",
   "execution_count": null,
   "metadata": {
    "collapsed": true
   },
   "outputs": [],
   "source": []
  }
 ],
 "metadata": {
  "kernelspec": {
   "display_name": "Python 3",
   "language": "python",
   "name": "python3"
  },
  "language_info": {
   "codemirror_mode": {
    "name": "ipython",
    "version": 3
   },
   "file_extension": ".py",
   "mimetype": "text/x-python",
   "name": "python",
   "nbconvert_exporter": "python",
   "pygments_lexer": "ipython3",
   "version": "3.6.1"
  }
 },
 "nbformat": 4,
 "nbformat_minor": 2
}
